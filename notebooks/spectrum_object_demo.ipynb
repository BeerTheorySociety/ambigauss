{
 "cells": [
  {
   "cell_type": "markdown",
   "metadata": {},
   "source": [
    "# Introduction to Ambigauss."
   ]
  },
  {
   "cell_type": "code",
   "execution_count": 1,
   "metadata": {},
   "outputs": [],
   "source": [
    "%matplotlib inline\n",
    "import matplotlib.pyplot as plt\n",
    "\n",
    "import pandas as pd\n",
    "import numpy as np\n",
    "\n",
    "import ambigauss \n",
    "from ambigauss import gaussian"
   ]
  },
  {
   "cell_type": "code",
   "execution_count": 19,
   "metadata": {},
   "outputs": [],
   "source": [
    "# Simulate noisy 4-peak spectrum\n",
    "xdata = np.linspace(0, 10, 500)\n",
    "ydata = gaussian(xdata, 1, 1, .5) + \\\n",
    "        gaussian(xdata, 2, 5, .3) + \\\n",
    "        gaussian(xdata, 6, 3, .3) + \\\n",
    "        gaussian(xdata, 4, 8, .3) + \\\n",
    "        np.random.randn(len(xdata))*.3 # Add noise"
   ]
  },
  {
   "cell_type": "markdown",
   "metadata": {},
   "source": [
    "Initialize a model."
   ]
  },
  {
   "cell_type": "code",
   "execution_count": 20,
   "metadata": {},
   "outputs": [],
   "source": [
    "fitter = ambigauss.GaussianSpectrum(n_peaks=4)"
   ]
  },
  {
   "cell_type": "markdown",
   "metadata": {},
   "source": [
    "Pretty print the variables for all peaks."
   ]
  },
  {
   "cell_type": "code",
   "execution_count": 21,
   "metadata": {},
   "outputs": [
    {
     "name": "stdout",
     "output_type": "stream",
     "text": [
      "Name         Value      Min      Max   Stderr     Vary     Expr Brute_Step\n",
      "amp_0            1     -inf      inf     None     True     None     None\n",
      "amp_1            1     -inf      inf     None     True     None     None\n",
      "amp_2            1     -inf      inf     None     True     None     None\n",
      "amp_3            1     -inf      inf     None     True     None     None\n",
      "center_0         1     -inf      inf     None     True     None     None\n",
      "center_1         1     -inf      inf     None     True     None     None\n",
      "center_2         1     -inf      inf     None     True     None     None\n",
      "center_3         1     -inf      inf     None     True     None     None\n",
      "width_0          1     -inf      inf     None     True     None     None\n",
      "width_1          1     -inf      inf     None     True     None     None\n",
      "width_2          1     -inf      inf     None     True     None     None\n",
      "width_3          1     -inf      inf     None     True     None     None\n"
     ]
    }
   ],
   "source": [
    "fitter.parameters.pretty_print()"
   ]
  },
  {
   "cell_type": "markdown",
   "metadata": {},
   "source": [
    "Users can even set guesses for each parameter if they'd like!\n"
   ]
  },
  {
   "cell_type": "code",
   "execution_count": 22,
   "metadata": {},
   "outputs": [],
   "source": [
    "fitter.parameters['center_0'].value = 1\n",
    "fitter.parameters['center_1'].value = 3\n",
    "fitter.parameters['center_2'].value = 5\n",
    "fitter.parameters['center_3'].value = 8"
   ]
  },
  {
   "cell_type": "markdown",
   "metadata": {},
   "source": [
    "Call the fit method to fit the data."
   ]
  },
  {
   "cell_type": "code",
   "execution_count": 23,
   "metadata": {},
   "outputs": [
    {
     "data": {
      "text/plain": [
       "GaussianSpectrum(n_peaks=4)"
      ]
     },
     "execution_count": 23,
     "metadata": {},
     "output_type": "execute_result"
    }
   ],
   "source": [
    "fitter.fit(xdata, ydata)"
   ]
  },
  {
   "cell_type": "markdown",
   "metadata": {},
   "source": [
    "Let's plot the results to see how we did."
   ]
  },
  {
   "cell_type": "code",
   "execution_count": 24,
   "metadata": {},
   "outputs": [
    {
     "data": {
      "text/plain": [
       "[<matplotlib.lines.Line2D at 0x1a1252abe0>]"
      ]
     },
     "execution_count": 24,
     "metadata": {},
     "output_type": "execute_result"
    },
    {
     "data": {
      "image/png": "[encoded data removed]",
      "text/plain": [
       "<matplotlib.figure.Figure at 0x1a1252a940>"
      ]
     },
     "metadata": {},
     "output_type": "display_data"
    }
   ],
   "source": [
    "x = xdata\n",
    "y = fitter.model(x, fitter.parameters)\n",
    "\n",
    "plt.scatter(xdata, ydata)\n",
    "plt.plot(x, y, linewidth=5, color='orange')"
   ]
  },
  {
   "cell_type": "code",
   "execution_count": null,
   "metadata": {},
   "outputs": [],
   "source": []
  }
 ],
 "metadata": {
  "kernelspec": {
   "display_name": "gpseer (Python 3)",
   "language": "python",
   "name": "gpseer"
  },
  "language_info": {
   "codemirror_mode": {
    "name": "ipython",
    "version": 3
   },
   "file_extension": ".py",
   "mimetype": "text/x-python",
   "name": "python",
   "nbconvert_exporter": "python",
   "pygments_lexer": "ipython3",
   "version": "3.5.4"
  }
 },
 "nbformat": 4,
 "nbformat_minor": 2
}
